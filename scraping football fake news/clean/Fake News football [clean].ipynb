{
 "cells": [
  {
   "cell_type": "code",
   "execution_count": 1,
   "id": "92153cb7",
   "metadata": {
    "_cell_guid": "b1076dfc-b9ad-4769-8c92-a6c4dae69d19",
    "_uuid": "8f2839f25d086af736a60e9eeb907d3b93b6e0e5",
    "execution": {
     "iopub.execute_input": "2023-02-16T16:07:23.191758Z",
     "iopub.status.busy": "2023-02-16T16:07:23.191030Z",
     "iopub.status.idle": "2023-02-16T16:07:45.429292Z",
     "shell.execute_reply": "2023-02-16T16:07:45.427430Z"
    },
    "papermill": {
     "duration": 22.258196,
     "end_time": "2023-02-16T16:07:45.432768",
     "exception": false,
     "start_time": "2023-02-16T16:07:23.174572",
     "status": "completed"
    },
    "tags": []
   },
   "outputs": [],
   "source": [
    "import re \n",
    "# Analysis\n",
    "import pandas as pd\n",
    "import numpy as np\n",
    "from deep_translator import GoogleTranslator\n",
    "import numpy as np\n",
    "\n",
    "def transtale_ar_en(text):\n",
    "    try:\n",
    "        x = GoogleTranslator(source='ar',target='en').translate(text)\n",
    "    except:\n",
    "        x=np.nan\n",
    "    return x\n"
   ]
  },
  {
   "cell_type": "code",
   "execution_count": 2,
   "id": "461d219c",
   "metadata": {
    "execution": {
     "iopub.execute_input": "2023-02-16T16:07:45.506516Z",
     "iopub.status.busy": "2023-02-16T16:07:45.505210Z",
     "iopub.status.idle": "2023-02-16T16:07:47.308322Z",
     "shell.execute_reply": "2023-02-16T16:07:47.307080Z"
    },
    "papermill": {
     "duration": 1.824952,
     "end_time": "2023-02-16T16:07:47.311095",
     "exception": false,
     "start_time": "2023-02-16T16:07:45.486143",
     "status": "completed"
    },
    "tags": []
   },
   "outputs": [],
   "source": [
    "fake_df1=pd.read_csv('twitter_fake.csv')\n",
    "fake_df1.drop(columns=[\"Unnamed: 0\"],inplace=True)\n",
    "fake_df2=pd.read_csv('twitter_fake2.csv')\n",
    "fake_df2.drop(columns=[\"Unnamed: 0\"],inplace=True)\n",
    "#fake_df=pd.concat([fake_df1,fake_df2],ignore_index=True)\n",
    "#fake_df=fake_df.sample(frac=1).reset_index(drop=True)\n",
    "#fake_df[\"label\"]=0\n",
    "#fake_df.sample(10)"
   ]
  },
  {
   "cell_type": "code",
   "execution_count": 4,
   "id": "fe86062d",
   "metadata": {},
   "outputs": [
    {
     "data": {
      "text/plain": [
       "(10000, 1)"
      ]
     },
     "execution_count": 4,
     "metadata": {},
     "output_type": "execute_result"
    }
   ],
   "source": [
    "fake_df2.shape"
   ]
  },
  {
   "cell_type": "code",
   "execution_count": 21,
   "id": "0faad432",
   "metadata": {},
   "outputs": [],
   "source": [
    "fake_df1[\"tweet\"]=fake_df1[\"tweet\"].apply(transtale_ar_en)"
   ]
  },
  {
   "cell_type": "code",
   "execution_count": 22,
   "id": "9067c5bf",
   "metadata": {},
   "outputs": [
    {
     "data": {
      "text/html": [
       "<div>\n",
       "<style scoped>\n",
       "    .dataframe tbody tr th:only-of-type {\n",
       "        vertical-align: middle;\n",
       "    }\n",
       "\n",
       "    .dataframe tbody tr th {\n",
       "        vertical-align: top;\n",
       "    }\n",
       "\n",
       "    .dataframe thead th {\n",
       "        text-align: right;\n",
       "    }\n",
       "</style>\n",
       "<table border=\"1\" class=\"dataframe\">\n",
       "  <thead>\n",
       "    <tr style=\"text-align: right;\">\n",
       "      <th></th>\n",
       "      <th>tweet</th>\n",
       "    </tr>\n",
       "  </thead>\n",
       "  <tbody>\n",
       "    <tr>\n",
       "      <th>0</th>\n",
       "      <td>I'm glad that the referee didn't count my ball 😭😂</td>\n",
       "    </tr>\n",
       "    <tr>\n",
       "      <th>1</th>\n",
       "      <td>When you come across any talk or something els...</td>\n",
       "    </tr>\n",
       "    <tr>\n",
       "      <th>2</th>\n",
       "      <td>Bobo at Al Ahly Club..... 😉😉</td>\n",
       "    </tr>\n",
       "    <tr>\n",
       "      <th>3</th>\n",
       "      <td>Why are they so burnt on Clattenburg and Egypt...</td>\n",
       "    </tr>\n",
       "    <tr>\n",
       "      <th>4</th>\n",
       "      <td>I swear to God, it is a farce to postpone the ...</td>\n",
       "    </tr>\n",
       "    <tr>\n",
       "      <th>...</th>\n",
       "      <td>...</td>\n",
       "    </tr>\n",
       "    <tr>\n",
       "      <th>9995</th>\n",
       "      <td>Well, leave them alone\\n\\nDespite my love for ...</td>\n",
       "    </tr>\n",
       "    <tr>\n",
       "      <th>9996</th>\n",
       "      <td>Wear blue, wear white\\nShe even wears a check ...</td>\n",
       "    </tr>\n",
       "    <tr>\n",
       "      <th>9997</th>\n",
       "      <td>Engineer Khaled Abdel Aziz, I wonder if Egypt ...</td>\n",
       "    </tr>\n",
       "    <tr>\n",
       "      <th>9998</th>\n",
       "      <td>Imagine every week that your kids come to the ...</td>\n",
       "    </tr>\n",
       "    <tr>\n",
       "      <th>9999</th>\n",
       "      <td>The stadium is full of right and left, and the...</td>\n",
       "    </tr>\n",
       "  </tbody>\n",
       "</table>\n",
       "<p>10000 rows × 1 columns</p>\n",
       "</div>"
      ],
      "text/plain": [
       "                                                  tweet\n",
       "0     I'm glad that the referee didn't count my ball 😭😂\n",
       "1     When you come across any talk or something els...\n",
       "2                          Bobo at Al Ahly Club..... 😉😉\n",
       "3     Why are they so burnt on Clattenburg and Egypt...\n",
       "4     I swear to God, it is a farce to postpone the ...\n",
       "...                                                 ...\n",
       "9995  Well, leave them alone\\n\\nDespite my love for ...\n",
       "9996  Wear blue, wear white\\nShe even wears a check ...\n",
       "9997  Engineer Khaled Abdel Aziz, I wonder if Egypt ...\n",
       "9998  Imagine every week that your kids come to the ...\n",
       "9999  The stadium is full of right and left, and the...\n",
       "\n",
       "[10000 rows x 1 columns]"
      ]
     },
     "execution_count": 22,
     "metadata": {},
     "output_type": "execute_result"
    }
   ],
   "source": [
    "fake_df1"
   ]
  },
  {
   "cell_type": "code",
   "execution_count": 23,
   "id": "e666d0f2",
   "metadata": {},
   "outputs": [],
   "source": [
    "fake_df1.to_csv(\"fake1.csv\",index=False)"
   ]
  },
  {
   "cell_type": "code",
   "execution_count": null,
   "id": "1e35f6bd",
   "metadata": {},
   "outputs": [],
   "source": []
  },
  {
   "cell_type": "code",
   "execution_count": 24,
   "id": "c96d7006",
   "metadata": {},
   "outputs": [],
   "source": [
    "fake_df2[\"tweet\"]=fake_df2[\"tweet\"].apply(transtale_ar_en)"
   ]
  },
  {
   "cell_type": "code",
   "execution_count": 25,
   "id": "57161271",
   "metadata": {},
   "outputs": [
    {
     "data": {
      "text/html": [
       "<div>\n",
       "<style scoped>\n",
       "    .dataframe tbody tr th:only-of-type {\n",
       "        vertical-align: middle;\n",
       "    }\n",
       "\n",
       "    .dataframe tbody tr th {\n",
       "        vertical-align: top;\n",
       "    }\n",
       "\n",
       "    .dataframe thead th {\n",
       "        text-align: right;\n",
       "    }\n",
       "</style>\n",
       "<table border=\"1\" class=\"dataframe\">\n",
       "  <thead>\n",
       "    <tr style=\"text-align: right;\">\n",
       "      <th></th>\n",
       "      <th>tweet</th>\n",
       "    </tr>\n",
       "  </thead>\n",
       "  <tbody>\n",
       "    <tr>\n",
       "      <th>0</th>\n",
       "      <td>The Al-Hilal and Sun match reminded me of the ...</td>\n",
       "    </tr>\n",
       "    <tr>\n",
       "      <th>1</th>\n",
       "      <td>Good morning, but sweet. Haha</td>\n",
       "    </tr>\n",
       "    <tr>\n",
       "      <th>2</th>\n",
       "      <td>By God, I don't have a problem with Barcelona ...</td>\n",
       "    </tr>\n",
       "    <tr>\n",
       "      <th>3</th>\n",
       "      <td>Long live justice, long live justice\\nObvious ...</td>\n",
       "    </tr>\n",
       "    <tr>\n",
       "      <th>4</th>\n",
       "      <td>Cristiano Abdel Fattah Adam Al-Nasrawi's missi...</td>\n",
       "    </tr>\n",
       "    <tr>\n",
       "      <th>...</th>\n",
       "      <td>...</td>\n",
       "    </tr>\n",
       "    <tr>\n",
       "      <th>9995</th>\n",
       "      <td>He tells you that the coach asked for this pla...</td>\n",
       "    </tr>\n",
       "    <tr>\n",
       "      <th>9996</th>\n",
       "      <td>Al-Hilal will trample on the entire sports bod...</td>\n",
       "    </tr>\n",
       "    <tr>\n",
       "      <th>9997</th>\n",
       "      <td>About the girl who prays ❤\\nAnd you encourage ...</td>\n",
       "    </tr>\n",
       "    <tr>\n",
       "      <th>9998</th>\n",
       "      <td>The mixed team, after defeating Al-Ahly, is no...</td>\n",
       "    </tr>\n",
       "    <tr>\n",
       "      <th>9999</th>\n",
       "      <td>His name is Rabbi Haha #ManchesterCity #CityTw...</td>\n",
       "    </tr>\n",
       "  </tbody>\n",
       "</table>\n",
       "<p>10000 rows × 1 columns</p>\n",
       "</div>"
      ],
      "text/plain": [
       "                                                  tweet\n",
       "0     The Al-Hilal and Sun match reminded me of the ...\n",
       "1                         Good morning, but sweet. Haha\n",
       "2     By God, I don't have a problem with Barcelona ...\n",
       "3     Long live justice, long live justice\\nObvious ...\n",
       "4     Cristiano Abdel Fattah Adam Al-Nasrawi's missi...\n",
       "...                                                 ...\n",
       "9995  He tells you that the coach asked for this pla...\n",
       "9996  Al-Hilal will trample on the entire sports bod...\n",
       "9997  About the girl who prays ❤\\nAnd you encourage ...\n",
       "9998  The mixed team, after defeating Al-Ahly, is no...\n",
       "9999  His name is Rabbi Haha #ManchesterCity #CityTw...\n",
       "\n",
       "[10000 rows x 1 columns]"
      ]
     },
     "execution_count": 25,
     "metadata": {},
     "output_type": "execute_result"
    }
   ],
   "source": [
    "fake_df2"
   ]
  },
  {
   "cell_type": "code",
   "execution_count": 26,
   "id": "acb6eb53",
   "metadata": {},
   "outputs": [],
   "source": [
    "fake_df2.to_csv(\"fake2.csv\",index=False)"
   ]
  },
  {
   "cell_type": "code",
   "execution_count": null,
   "id": "4c7b6f4c",
   "metadata": {},
   "outputs": [],
   "source": []
  },
  {
   "cell_type": "code",
   "execution_count": null,
   "id": "032d64c2",
   "metadata": {},
   "outputs": [],
   "source": []
  },
  {
   "cell_type": "code",
   "execution_count": null,
   "id": "34b2641b",
   "metadata": {},
   "outputs": [],
   "source": []
  },
  {
   "cell_type": "code",
   "execution_count": 11,
   "id": "198f0921",
   "metadata": {},
   "outputs": [
    {
     "data": {
      "text/plain": [
       "(20000, 2)"
      ]
     },
     "execution_count": 11,
     "metadata": {},
     "output_type": "execute_result"
    }
   ],
   "source": [
    "fake_df.shape"
   ]
  },
  {
   "cell_type": "code",
   "execution_count": 5,
   "id": "10a03283",
   "metadata": {
    "execution": {
     "iopub.execute_input": "2023-02-16T16:07:47.395751Z",
     "iopub.status.busy": "2023-02-16T16:07:47.395337Z",
     "iopub.status.idle": "2023-02-16T16:07:48.833263Z",
     "shell.execute_reply": "2023-02-16T16:07:48.832100Z"
    },
    "papermill": {
     "duration": 1.459131,
     "end_time": "2023-02-16T16:07:48.836273",
     "exception": false,
     "start_time": "2023-02-16T16:07:47.377142",
     "status": "completed"
    },
    "tags": []
   },
   "outputs": [],
   "source": [
    "true_df1=pd.read_csv('twitter_true.csv')\n",
    "true_df1.drop(columns=[\"Unnamed: 0\"],inplace=True)\n",
    "true_df2=pd.read_csv('true2.csv')\n",
    "true_df3=pd.read_csv('true2_test.csv')\n",
    "\n",
    "#true_df=pd.concat([true_df1,true_df2,true_df3],ignore_index=True)\n",
    "#true_df=true_df.sample(frac=1).reset_index(drop=True)\n",
    "#true_df[\"label\"]=1\n",
    "#true_df.sample(10)"
   ]
  },
  {
   "cell_type": "code",
   "execution_count": null,
   "id": "52b83c3d",
   "metadata": {},
   "outputs": [],
   "source": []
  },
  {
   "cell_type": "code",
   "execution_count": null,
   "id": "836fdbe5",
   "metadata": {},
   "outputs": [],
   "source": []
  },
  {
   "cell_type": "code",
   "execution_count": null,
   "id": "f4da59a0",
   "metadata": {},
   "outputs": [],
   "source": []
  },
  {
   "cell_type": "code",
   "execution_count": null,
   "id": "4e9b2c19",
   "metadata": {},
   "outputs": [],
   "source": []
  },
  {
   "cell_type": "code",
   "execution_count": 9,
   "id": "66331a72",
   "metadata": {},
   "outputs": [
    {
     "data": {
      "text/plain": [
       "(9949, 1)"
      ]
     },
     "execution_count": 9,
     "metadata": {},
     "output_type": "execute_result"
    }
   ],
   "source": [
    "true_df1.shape"
   ]
  },
  {
   "cell_type": "code",
   "execution_count": 10,
   "id": "a4bbe488",
   "metadata": {},
   "outputs": [
    {
     "data": {
      "text/plain": [
       "(4960, 1)"
      ]
     },
     "execution_count": 10,
     "metadata": {},
     "output_type": "execute_result"
    }
   ],
   "source": [
    "true_df2.shape"
   ]
  },
  {
   "cell_type": "code",
   "execution_count": 15,
   "id": "5eb6192c",
   "metadata": {},
   "outputs": [],
   "source": [
    "true_df1[\"tweet\"]=true_df1[\"tweet\"].apply(transtale_ar_en)"
   ]
  },
  {
   "cell_type": "code",
   "execution_count": 16,
   "id": "46bc9084",
   "metadata": {},
   "outputs": [
    {
     "data": {
      "text/html": [
       "<div>\n",
       "<style scoped>\n",
       "    .dataframe tbody tr th:only-of-type {\n",
       "        vertical-align: middle;\n",
       "    }\n",
       "\n",
       "    .dataframe tbody tr th {\n",
       "        vertical-align: top;\n",
       "    }\n",
       "\n",
       "    .dataframe thead th {\n",
       "        text-align: right;\n",
       "    }\n",
       "</style>\n",
       "<table border=\"1\" class=\"dataframe\">\n",
       "  <thead>\n",
       "    <tr style=\"text-align: right;\">\n",
       "      <th></th>\n",
       "      <th>tweet</th>\n",
       "    </tr>\n",
       "  </thead>\n",
       "  <tbody>\n",
       "    <tr>\n",
       "      <th>0</th>\n",
       "      <td>A wonderful shot from the stars .. Mohamed Sal...</td>\n",
       "    </tr>\n",
       "    <tr>\n",
       "      <th>1</th>\n",
       "      <td>The first half between Al-Ahly and Al-Dakhiliy...</td>\n",
       "    </tr>\n",
       "    <tr>\n",
       "      <th>2</th>\n",
       "      <td>Mohamed El-Garhi: Since I was young, I have be...</td>\n",
       "    </tr>\n",
       "    <tr>\n",
       "      <th>3</th>\n",
       "      <td>Tonight.. Pharaohs of the Hand on the mission ...</td>\n",
       "    </tr>\n",
       "    <tr>\n",
       "      <th>4</th>\n",
       "      <td>Finally and officially, Abu Jabal left Zamalek</td>\n",
       "    </tr>\n",
       "    <tr>\n",
       "      <th>...</th>\n",
       "      <td>...</td>\n",
       "    </tr>\n",
       "    <tr>\n",
       "      <th>9944</th>\n",
       "      <td>The Football Association spends 136,000 pounds...</td>\n",
       "    </tr>\n",
       "    <tr>\n",
       "      <th>9945</th>\n",
       "      <td>Mohamed Sobhi is a goalkeeper with potential</td>\n",
       "    </tr>\n",
       "    <tr>\n",
       "      <th>9946</th>\n",
       "      <td>Ashraf Khader, former general coach of Ismaili...</td>\n",
       "    </tr>\n",
       "    <tr>\n",
       "      <th>9947</th>\n",
       "      <td>Good morning.. Today is the summit match. ⚽🔥</td>\n",
       "    </tr>\n",
       "    <tr>\n",
       "      <th>9948</th>\n",
       "      <td>Al-Ahly beat Al-Masry Al-Port Said 2/0, scored...</td>\n",
       "    </tr>\n",
       "  </tbody>\n",
       "</table>\n",
       "<p>9949 rows × 1 columns</p>\n",
       "</div>"
      ],
      "text/plain": [
       "                                                  tweet\n",
       "0     A wonderful shot from the stars .. Mohamed Sal...\n",
       "1     The first half between Al-Ahly and Al-Dakhiliy...\n",
       "2     Mohamed El-Garhi: Since I was young, I have be...\n",
       "3     Tonight.. Pharaohs of the Hand on the mission ...\n",
       "4        Finally and officially, Abu Jabal left Zamalek\n",
       "...                                                 ...\n",
       "9944  The Football Association spends 136,000 pounds...\n",
       "9945       Mohamed Sobhi is a goalkeeper with potential\n",
       "9946  Ashraf Khader, former general coach of Ismaili...\n",
       "9947       Good morning.. Today is the summit match. ⚽🔥\n",
       "9948  Al-Ahly beat Al-Masry Al-Port Said 2/0, scored...\n",
       "\n",
       "[9949 rows x 1 columns]"
      ]
     },
     "execution_count": 16,
     "metadata": {},
     "output_type": "execute_result"
    }
   ],
   "source": [
    "true_df1"
   ]
  },
  {
   "cell_type": "code",
   "execution_count": 17,
   "id": "492ea3c9",
   "metadata": {},
   "outputs": [],
   "source": [
    "true_df1.to_csv(\"real1.csv\",index=False)"
   ]
  },
  {
   "cell_type": "code",
   "execution_count": null,
   "id": "37f8e274",
   "metadata": {},
   "outputs": [],
   "source": []
  },
  {
   "cell_type": "code",
   "execution_count": null,
   "id": "08c2e7b0",
   "metadata": {},
   "outputs": [],
   "source": []
  },
  {
   "cell_type": "code",
   "execution_count": 11,
   "id": "b2784200",
   "metadata": {},
   "outputs": [],
   "source": [
    "true_df2[\"tweet\"]=true_df2[\"tweet\"].apply(transtale_ar_en)"
   ]
  },
  {
   "cell_type": "code",
   "execution_count": 13,
   "id": "951c8961",
   "metadata": {},
   "outputs": [
    {
     "data": {
      "text/html": [
       "<div>\n",
       "<style scoped>\n",
       "    .dataframe tbody tr th:only-of-type {\n",
       "        vertical-align: middle;\n",
       "    }\n",
       "\n",
       "    .dataframe tbody tr th {\n",
       "        vertical-align: top;\n",
       "    }\n",
       "\n",
       "    .dataframe thead th {\n",
       "        text-align: right;\n",
       "    }\n",
       "</style>\n",
       "<table border=\"1\" class=\"dataframe\">\n",
       "  <thead>\n",
       "    <tr style=\"text-align: right;\">\n",
       "      <th></th>\n",
       "      <th>tweet</th>\n",
       "    </tr>\n",
       "  </thead>\n",
       "  <tbody>\n",
       "    <tr>\n",
       "      <th>0</th>\n",
       "      <td>The Egyptian Squash Federation, headed by Asse...</td>\n",
       "    </tr>\n",
       "    <tr>\n",
       "      <th>1</th>\n",
       "      <td>The football team of Zamalek relies on a numbe...</td>\n",
       "    </tr>\n",
       "    <tr>\n",
       "      <th>2</th>\n",
       "      <td>Khaled Eid, the technical director of the Arse...</td>\n",
       "    </tr>\n",
       "    <tr>\n",
       "      <th>3</th>\n",
       "      <td>Mohamed Farouk, a player for Future Club, is u...</td>\n",
       "    </tr>\n",
       "    <tr>\n",
       "      <th>4</th>\n",
       "      <td>The Professional Squash Players Association (P...</td>\n",
       "    </tr>\n",
       "    <tr>\n",
       "      <th>...</th>\n",
       "      <td>...</td>\n",
       "    </tr>\n",
       "    <tr>\n",
       "      <th>4955</th>\n",
       "      <td>Zamalek officials are seeking to transfer the ...</td>\n",
       "    </tr>\n",
       "    <tr>\n",
       "      <th>4956</th>\n",
       "      <td>The results of the second division matches in ...</td>\n",
       "    </tr>\n",
       "    <tr>\n",
       "      <th>4957</th>\n",
       "      <td>The football team of Al-Ahly Club resumed its ...</td>\n",
       "    </tr>\n",
       "    <tr>\n",
       "      <th>4958</th>\n",
       "      <td>Al-Mathlouthi, the Zamalek player, underwent a...</td>\n",
       "    </tr>\n",
       "    <tr>\n",
       "      <th>4959</th>\n",
       "      <td>The first football team of Al-Ahly Club resume...</td>\n",
       "    </tr>\n",
       "  </tbody>\n",
       "</table>\n",
       "<p>4960 rows × 1 columns</p>\n",
       "</div>"
      ],
      "text/plain": [
       "                                                  tweet\n",
       "0     The Egyptian Squash Federation, headed by Asse...\n",
       "1     The football team of Zamalek relies on a numbe...\n",
       "2     Khaled Eid, the technical director of the Arse...\n",
       "3     Mohamed Farouk, a player for Future Club, is u...\n",
       "4     The Professional Squash Players Association (P...\n",
       "...                                                 ...\n",
       "4955  Zamalek officials are seeking to transfer the ...\n",
       "4956  The results of the second division matches in ...\n",
       "4957  The football team of Al-Ahly Club resumed its ...\n",
       "4958  Al-Mathlouthi, the Zamalek player, underwent a...\n",
       "4959  The first football team of Al-Ahly Club resume...\n",
       "\n",
       "[4960 rows x 1 columns]"
      ]
     },
     "execution_count": 13,
     "metadata": {},
     "output_type": "execute_result"
    }
   ],
   "source": [
    "true_df2"
   ]
  },
  {
   "cell_type": "code",
   "execution_count": 14,
   "id": "7cf59094",
   "metadata": {},
   "outputs": [],
   "source": [
    "true_df2.to_csv(\"real2.csv\",index=False)"
   ]
  },
  {
   "cell_type": "code",
   "execution_count": null,
   "id": "a201dbe6",
   "metadata": {},
   "outputs": [],
   "source": []
  },
  {
   "cell_type": "code",
   "execution_count": 18,
   "id": "02955292",
   "metadata": {},
   "outputs": [],
   "source": [
    "true_df3[\"tweet\"]=true_df3[\"tweet\"].apply(transtale_ar_en)"
   ]
  },
  {
   "cell_type": "code",
   "execution_count": 19,
   "id": "75777fcc",
   "metadata": {},
   "outputs": [
    {
     "data": {
      "text/html": [
       "<div>\n",
       "<style scoped>\n",
       "    .dataframe tbody tr th:only-of-type {\n",
       "        vertical-align: middle;\n",
       "    }\n",
       "\n",
       "    .dataframe tbody tr th {\n",
       "        vertical-align: top;\n",
       "    }\n",
       "\n",
       "    .dataframe thead th {\n",
       "        text-align: right;\n",
       "    }\n",
       "</style>\n",
       "<table border=\"1\" class=\"dataframe\">\n",
       "  <thead>\n",
       "    <tr style=\"text-align: right;\">\n",
       "      <th></th>\n",
       "      <th>tweet</th>\n",
       "    </tr>\n",
       "  </thead>\n",
       "  <tbody>\n",
       "    <tr>\n",
       "      <th>0</th>\n",
       "      <td>At three in the afternoon, Thursday, 5 heated ...</td>\n",
       "    </tr>\n",
       "    <tr>\n",
       "      <th>1</th>\n",
       "      <td>Al-Ahly team defeated its New Zealand counterp...</td>\n",
       "    </tr>\n",
       "    <tr>\n",
       "      <th>2</th>\n",
       "      <td>Tunisian Elias Al-Jelassi obtained the approva...</td>\n",
       "    </tr>\n",
       "    <tr>\n",
       "      <th>3</th>\n",
       "      <td>The Dervishes defeated the Sudanese champions ...</td>\n",
       "    </tr>\n",
       "    <tr>\n",
       "      <th>4</th>\n",
       "      <td>The journalist, Ahmed Schubert, revealed the p...</td>\n",
       "    </tr>\n",
       "    <tr>\n",
       "      <th>...</th>\n",
       "      <td>...</td>\n",
       "    </tr>\n",
       "    <tr>\n",
       "      <th>6955</th>\n",
       "      <td>Bridge is a card game, and it dates back to th...</td>\n",
       "    </tr>\n",
       "    <tr>\n",
       "      <th>6956</th>\n",
       "      <td>Greek Takis Junias, coach of the first footbal...</td>\n",
       "    </tr>\n",
       "    <tr>\n",
       "      <th>6957</th>\n",
       "      <td>The training of the first football team at Zam...</td>\n",
       "    </tr>\n",
       "    <tr>\n",
       "      <th>6958</th>\n",
       "      <td>Beninese Samson Akinola, striker of the first ...</td>\n",
       "    </tr>\n",
       "    <tr>\n",
       "      <th>6959</th>\n",
       "      <td>Portuguese Josevaldo Ferreira, coach of the fi...</td>\n",
       "    </tr>\n",
       "  </tbody>\n",
       "</table>\n",
       "<p>6960 rows × 1 columns</p>\n",
       "</div>"
      ],
      "text/plain": [
       "                                                  tweet\n",
       "0     At three in the afternoon, Thursday, 5 heated ...\n",
       "1     Al-Ahly team defeated its New Zealand counterp...\n",
       "2     Tunisian Elias Al-Jelassi obtained the approva...\n",
       "3     The Dervishes defeated the Sudanese champions ...\n",
       "4     The journalist, Ahmed Schubert, revealed the p...\n",
       "...                                                 ...\n",
       "6955  Bridge is a card game, and it dates back to th...\n",
       "6956  Greek Takis Junias, coach of the first footbal...\n",
       "6957  The training of the first football team at Zam...\n",
       "6958  Beninese Samson Akinola, striker of the first ...\n",
       "6959  Portuguese Josevaldo Ferreira, coach of the fi...\n",
       "\n",
       "[6960 rows x 1 columns]"
      ]
     },
     "execution_count": 19,
     "metadata": {},
     "output_type": "execute_result"
    }
   ],
   "source": [
    "true_df3"
   ]
  },
  {
   "cell_type": "code",
   "execution_count": 20,
   "id": "430c01bc",
   "metadata": {},
   "outputs": [],
   "source": [
    "true_df3.to_csv(\"real3.csv\",index=False)"
   ]
  },
  {
   "cell_type": "code",
   "execution_count": 2,
   "id": "5f48da73",
   "metadata": {},
   "outputs": [],
   "source": [
    "real1=pd.read_csv(\"real1.csv\")\n",
    "real2=pd.read_csv(\"real2.csv\")\n",
    "real3=pd.read_csv(\"real3.csv\")"
   ]
  },
  {
   "cell_type": "code",
   "execution_count": 3,
   "id": "01554e39",
   "metadata": {},
   "outputs": [
    {
     "data": {
      "text/html": [
       "<div>\n",
       "<style scoped>\n",
       "    .dataframe tbody tr th:only-of-type {\n",
       "        vertical-align: middle;\n",
       "    }\n",
       "\n",
       "    .dataframe tbody tr th {\n",
       "        vertical-align: top;\n",
       "    }\n",
       "\n",
       "    .dataframe thead th {\n",
       "        text-align: right;\n",
       "    }\n",
       "</style>\n",
       "<table border=\"1\" class=\"dataframe\">\n",
       "  <thead>\n",
       "    <tr style=\"text-align: right;\">\n",
       "      <th></th>\n",
       "      <th>tweet</th>\n",
       "    </tr>\n",
       "  </thead>\n",
       "  <tbody>\n",
       "    <tr>\n",
       "      <th>0</th>\n",
       "      <td>A wonderful shot from the stars .. Mohamed Sal...</td>\n",
       "    </tr>\n",
       "    <tr>\n",
       "      <th>1</th>\n",
       "      <td>The first half between Al-Ahly and Al-Dakhiliy...</td>\n",
       "    </tr>\n",
       "    <tr>\n",
       "      <th>2</th>\n",
       "      <td>Mohamed El-Garhi: Since I was young, I have be...</td>\n",
       "    </tr>\n",
       "    <tr>\n",
       "      <th>3</th>\n",
       "      <td>Tonight.. Pharaohs of the Hand on the mission ...</td>\n",
       "    </tr>\n",
       "    <tr>\n",
       "      <th>4</th>\n",
       "      <td>Finally and officially, Abu Jabal left Zamalek</td>\n",
       "    </tr>\n",
       "    <tr>\n",
       "      <th>...</th>\n",
       "      <td>...</td>\n",
       "    </tr>\n",
       "    <tr>\n",
       "      <th>21864</th>\n",
       "      <td>Bridge is a card game, and it dates back to th...</td>\n",
       "    </tr>\n",
       "    <tr>\n",
       "      <th>21865</th>\n",
       "      <td>Greek Takis Junias, coach of the first footbal...</td>\n",
       "    </tr>\n",
       "    <tr>\n",
       "      <th>21866</th>\n",
       "      <td>The training of the first football team at Zam...</td>\n",
       "    </tr>\n",
       "    <tr>\n",
       "      <th>21867</th>\n",
       "      <td>Beninese Samson Akinola, striker of the first ...</td>\n",
       "    </tr>\n",
       "    <tr>\n",
       "      <th>21868</th>\n",
       "      <td>Portuguese Josevaldo Ferreira, coach of the fi...</td>\n",
       "    </tr>\n",
       "  </tbody>\n",
       "</table>\n",
       "<p>21869 rows × 1 columns</p>\n",
       "</div>"
      ],
      "text/plain": [
       "                                                   tweet\n",
       "0      A wonderful shot from the stars .. Mohamed Sal...\n",
       "1      The first half between Al-Ahly and Al-Dakhiliy...\n",
       "2      Mohamed El-Garhi: Since I was young, I have be...\n",
       "3      Tonight.. Pharaohs of the Hand on the mission ...\n",
       "4         Finally and officially, Abu Jabal left Zamalek\n",
       "...                                                  ...\n",
       "21864  Bridge is a card game, and it dates back to th...\n",
       "21865  Greek Takis Junias, coach of the first footbal...\n",
       "21866  The training of the first football team at Zam...\n",
       "21867  Beninese Samson Akinola, striker of the first ...\n",
       "21868  Portuguese Josevaldo Ferreira, coach of the fi...\n",
       "\n",
       "[21869 rows x 1 columns]"
      ]
     },
     "execution_count": 3,
     "metadata": {},
     "output_type": "execute_result"
    }
   ],
   "source": [
    "real=pd.concat([real1,real2,real3],ignore_index=True)\n",
    "real"
   ]
  },
  {
   "cell_type": "code",
   "execution_count": 13,
   "id": "f0a98b23",
   "metadata": {},
   "outputs": [],
   "source": [
    "real=real.sample(frac=1).reset_index(drop=True)"
   ]
  },
  {
   "cell_type": "code",
   "execution_count": 6,
   "id": "09d4b4c8",
   "metadata": {},
   "outputs": [
    {
     "name": "stdout",
     "output_type": "stream",
     "text": [
      "Collecting clean-text\n",
      "  Downloading clean_text-0.6.0-py3-none-any.whl (11 kB)\n",
      "Collecting ftfy<7.0,>=6.0\n",
      "  Downloading ftfy-6.1.1-py3-none-any.whl (53 kB)\n",
      "Collecting emoji<2.0.0,>=1.0.0\n",
      "  Downloading emoji-1.7.0.tar.gz (175 kB)\n",
      "Requirement already satisfied: wcwidth>=0.2.5 in c:\\users\\hp\\anaconda3\\lib\\site-packages (from ftfy<7.0,>=6.0->clean-text) (0.2.5)\n",
      "Building wheels for collected packages: emoji\n",
      "  Building wheel for emoji (setup.py): started\n",
      "  Building wheel for emoji (setup.py): finished with status 'done'\n",
      "  Created wheel for emoji: filename=emoji-1.7.0-py3-none-any.whl size=171047 sha256=409e35870d27c2a9a153ef02d85cf56cd9230f61c280680764d8124deed620b0\n",
      "  Stored in directory: c:\\users\\hp\\appdata\\local\\pip\\cache\\wheels\\fa\\7a\\e9\\22dd0515e1bad255e51663ee513a2fa839c95934c5fc301090\n",
      "Successfully built emoji\n",
      "Installing collected packages: ftfy, emoji, clean-text\n",
      "  Attempting uninstall: emoji\n",
      "    Found existing installation: emoji 2.2.0\n",
      "    Uninstalling emoji-2.2.0:\n",
      "      Successfully uninstalled emoji-2.2.0\n",
      "Successfully installed clean-text-0.6.0 emoji-1.7.0 ftfy-6.1.1\n",
      "Note: you may need to restart the kernel to use updated packages.\n"
     ]
    }
   ],
   "source": [
    "#pip install clean-text"
   ]
  },
  {
   "cell_type": "code",
   "execution_count": 2,
   "id": "5fa24acb",
   "metadata": {},
   "outputs": [],
   "source": [
    "from cleantext import clean\n",
    "def remove_emoji(i):\n",
    "    return clean(i, no_emoji=True)"
   ]
  },
  {
   "cell_type": "code",
   "execution_count": 14,
   "id": "5e2650af",
   "metadata": {},
   "outputs": [
    {
     "data": {
      "text/plain": [
       "'sun downs technical director: al-ahly respected us and played to win'"
      ]
     },
     "execution_count": 14,
     "metadata": {},
     "output_type": "execute_result"
    }
   ],
   "source": [
    "remove_emoji(real.iloc[0]['tweet'])"
   ]
  },
  {
   "cell_type": "code",
   "execution_count": 15,
   "id": "7050be93",
   "metadata": {},
   "outputs": [],
   "source": [
    "real['tweet']=real['tweet'].apply(remove_emoji)"
   ]
  },
  {
   "cell_type": "code",
   "execution_count": 16,
   "id": "26afe7f2",
   "metadata": {},
   "outputs": [],
   "source": [
    "real.to_csv(\"real.csv\",index=False)"
   ]
  },
  {
   "cell_type": "code",
   "execution_count": 3,
   "id": "d4921ad3",
   "metadata": {},
   "outputs": [
    {
     "data": {
      "text/html": [
       "<div>\n",
       "<style scoped>\n",
       "    .dataframe tbody tr th:only-of-type {\n",
       "        vertical-align: middle;\n",
       "    }\n",
       "\n",
       "    .dataframe tbody tr th {\n",
       "        vertical-align: top;\n",
       "    }\n",
       "\n",
       "    .dataframe thead th {\n",
       "        text-align: right;\n",
       "    }\n",
       "</style>\n",
       "<table border=\"1\" class=\"dataframe\">\n",
       "  <thead>\n",
       "    <tr style=\"text-align: right;\">\n",
       "      <th></th>\n",
       "      <th>tweet</th>\n",
       "    </tr>\n",
       "  </thead>\n",
       "  <tbody>\n",
       "    <tr>\n",
       "      <th>0</th>\n",
       "      <td>The tongue of his condition, now I saw things ...</td>\n",
       "    </tr>\n",
       "    <tr>\n",
       "      <th>1</th>\n",
       "      <td>By God the Great, after I saw the derby of Wyd...</td>\n",
       "    </tr>\n",
       "    <tr>\n",
       "      <th>2</th>\n",
       "      <td>Believe in God, this Zamalek fans are as good ...</td>\n",
       "    </tr>\n",
       "    <tr>\n",
       "      <th>3</th>\n",
       "      <td>The coach appeared in the media and told the t...</td>\n",
       "    </tr>\n",
       "    <tr>\n",
       "      <th>4</th>\n",
       "      <td>Asno Smito\\nWhoever knows her tells me a massa...</td>\n",
       "    </tr>\n",
       "    <tr>\n",
       "      <th>...</th>\n",
       "      <td>...</td>\n",
       "    </tr>\n",
       "    <tr>\n",
       "      <th>19995</th>\n",
       "      <td>By hitting the referee 😂😂😂😂😂😂</td>\n",
       "    </tr>\n",
       "    <tr>\n",
       "      <th>19996</th>\n",
       "      <td>And instead of assassinating him.. they assass...</td>\n",
       "    </tr>\n",
       "    <tr>\n",
       "      <th>19997</th>\n",
       "      <td>Honestly, the goalkeeper deal is not the best ...</td>\n",
       "    </tr>\n",
       "    <tr>\n",
       "      <th>19998</th>\n",
       "      <td>Haha goal and no bangura (:</td>\n",
       "    </tr>\n",
       "    <tr>\n",
       "      <th>19999</th>\n",
       "      <td>I swear by God Almighty\\n\\nMessi will not come...</td>\n",
       "    </tr>\n",
       "  </tbody>\n",
       "</table>\n",
       "<p>20000 rows × 1 columns</p>\n",
       "</div>"
      ],
      "text/plain": [
       "                                                   tweet\n",
       "0      The tongue of his condition, now I saw things ...\n",
       "1      By God the Great, after I saw the derby of Wyd...\n",
       "2      Believe in God, this Zamalek fans are as good ...\n",
       "3      The coach appeared in the media and told the t...\n",
       "4      Asno Smito\\nWhoever knows her tells me a massa...\n",
       "...                                                  ...\n",
       "19995                      By hitting the referee 😂😂😂😂😂😂\n",
       "19996  And instead of assassinating him.. they assass...\n",
       "19997  Honestly, the goalkeeper deal is not the best ...\n",
       "19998                        Haha goal and no bangura (:\n",
       "19999  I swear by God Almighty\\n\\nMessi will not come...\n",
       "\n",
       "[20000 rows x 1 columns]"
      ]
     },
     "execution_count": 3,
     "metadata": {},
     "output_type": "execute_result"
    }
   ],
   "source": [
    "fake1=pd.read_csv(\"fake1.csv\")\n",
    "fake2=pd.read_csv(\"fake2.csv\")\n",
    "fake=pd.concat([fake1,fake2],ignore_index=True)\n",
    "fake=fake.sample(frac=1).reset_index(drop=True)\n",
    "fake"
   ]
  },
  {
   "cell_type": "code",
   "execution_count": 4,
   "id": "e2c1beed",
   "metadata": {},
   "outputs": [],
   "source": [
    "fake['tweet']=fake['tweet'].apply(remove_emoji)"
   ]
  },
  {
   "cell_type": "code",
   "execution_count": 5,
   "id": "0c35c987",
   "metadata": {},
   "outputs": [
    {
     "data": {
      "text/html": [
       "<div>\n",
       "<style scoped>\n",
       "    .dataframe tbody tr th:only-of-type {\n",
       "        vertical-align: middle;\n",
       "    }\n",
       "\n",
       "    .dataframe tbody tr th {\n",
       "        vertical-align: top;\n",
       "    }\n",
       "\n",
       "    .dataframe thead th {\n",
       "        text-align: right;\n",
       "    }\n",
       "</style>\n",
       "<table border=\"1\" class=\"dataframe\">\n",
       "  <thead>\n",
       "    <tr style=\"text-align: right;\">\n",
       "      <th></th>\n",
       "      <th>tweet</th>\n",
       "    </tr>\n",
       "  </thead>\n",
       "  <tbody>\n",
       "    <tr>\n",
       "      <th>0</th>\n",
       "      <td>the tongue of his condition, now i saw things ...</td>\n",
       "    </tr>\n",
       "    <tr>\n",
       "      <th>1</th>\n",
       "      <td>by god the great, after i saw the derby of wyd...</td>\n",
       "    </tr>\n",
       "    <tr>\n",
       "      <th>2</th>\n",
       "      <td>believe in god, this zamalek fans are as good ...</td>\n",
       "    </tr>\n",
       "    <tr>\n",
       "      <th>3</th>\n",
       "      <td>the coach appeared in the media and told the t...</td>\n",
       "    </tr>\n",
       "    <tr>\n",
       "      <th>4</th>\n",
       "      <td>asno smito\\nwhoever knows her tells me a massa...</td>\n",
       "    </tr>\n",
       "    <tr>\n",
       "      <th>5</th>\n",
       "      <td>#crescent_flamingo\\nthe dirty referee is a sie...</td>\n",
       "    </tr>\n",
       "    <tr>\n",
       "      <th>6</th>\n",
       "      <td>#morocco _ portugal argentine referee and unde...</td>\n",
       "    </tr>\n",
       "    <tr>\n",
       "      <th>7</th>\n",
       "      <td>honestly, when al-ahly and al-hilal match tick...</td>\n",
       "    </tr>\n",
       "    <tr>\n",
       "      <th>8</th>\n",
       "      <td>ashraf sobhi, minister of kindness:\\nwe follow...</td>\n",
       "    </tr>\n",
       "    <tr>\n",
       "      <th>9</th>\n",
       "      <td>i am of the opinion to stop the league and pla...</td>\n",
       "    </tr>\n",
       "    <tr>\n",
       "      <th>10</th>\n",
       "      <td>#al-hilal _ zamalek, i am al-hilal</td>\n",
       "    </tr>\n",
       "    <tr>\n",
       "      <th>11</th>\n",
       "      <td>#development\\n113.6 dangerous, remove 114\\n116...</td>\n",
       "    </tr>\n",
       "    <tr>\n",
       "      <th>12</th>\n",
       "      <td>#union _ league _ unit\\na nasrawi entered a re...</td>\n",
       "    </tr>\n",
       "    <tr>\n",
       "      <th>13</th>\n",
       "      <td>had al-kawari, think of me other than football...</td>\n",
       "    </tr>\n",
       "    <tr>\n",
       "      <th>14</th>\n",
       "      <td>harran kalyan in the french league, we are dep...</td>\n",
       "    </tr>\n",
       "    <tr>\n",
       "      <th>15</th>\n",
       "      <td>someone kills these ahlawyah, always forgettin...</td>\n",
       "    </tr>\n",
       "    <tr>\n",
       "      <th>16</th>\n",
       "      <td>gross is back, renewing the pains, haha. incre...</td>\n",
       "    </tr>\n",
       "    <tr>\n",
       "      <th>17</th>\n",
       "      <td>#al-ahly _ al-fayhaa\\nhaha the second faihaa h...</td>\n",
       "    </tr>\n",
       "    <tr>\n",
       "      <th>18</th>\n",
       "      <td>#from _ cutting _ the _ mouse _ at _ al-fayha ...</td>\n",
       "    </tr>\n",
       "    <tr>\n",
       "      <th>19</th>\n",
       "      <td>i feel sorry for you, which is in my mind. i d...</td>\n",
       "    </tr>\n",
       "    <tr>\n",
       "      <th>20</th>\n",
       "      <td>a player provokes the audience, and then the c...</td>\n",
       "    </tr>\n",
       "    <tr>\n",
       "      <th>21</th>\n",
       "      <td>watch ronaldo's reaction after salah salah's goal</td>\n",
       "    </tr>\n",
       "    <tr>\n",
       "      <th>22</th>\n",
       "      <td>haha, it appears from the beginning that the t...</td>\n",
       "    </tr>\n",
       "    <tr>\n",
       "      <th>23</th>\n",
       "      <td>congratulations, al-douri to al-ahly. nawaf bi...</td>\n",
       "    </tr>\n",
       "    <tr>\n",
       "      <th>24</th>\n",
       "      <td>#turkish _ outside _ al-ahly\\nsearch on google...</td>\n",
       "    </tr>\n",
       "    <tr>\n",
       "      <th>25</th>\n",
       "      <td>he said, what did he say, asia?</td>\n",
       "    </tr>\n",
       "    <tr>\n",
       "      <th>26</th>\n",
       "      <td>congratulations to zamalek for 2.5 million dol...</td>\n",
       "    </tr>\n",
       "    <tr>\n",
       "      <th>27</th>\n",
       "      <td>hijazi</td>\n",
       "    </tr>\n",
       "    <tr>\n",
       "      <th>28</th>\n",
       "      <td>al-ahly wins zamalek, where was the color of t...</td>\n",
       "    </tr>\n",
       "    <tr>\n",
       "      <th>29</th>\n",
       "      <td>the biggest wrong decision made by qatar is to...</td>\n",
       "    </tr>\n",
       "    <tr>\n",
       "      <th>30</th>\n",
       "      <td>may god protect them, they do not say that the...</td>\n",
       "    </tr>\n",
       "    <tr>\n",
       "      <th>31</th>\n",
       "      <td>help me with men, haha # al-ahly_daldool_fathi</td>\n",
       "    </tr>\n",
       "    <tr>\n",
       "      <th>32</th>\n",
       "      <td>haha, god damn you from defence</td>\n",
       "    </tr>\n",
       "    <tr>\n",
       "      <th>33</th>\n",
       "      <td>whenever #al-ittihad scores a goal, it must be...</td>\n",
       "    </tr>\n",
       "    <tr>\n",
       "      <th>34</th>\n",
       "      <td>it is possible that the al-ahly administration...</td>\n",
       "    </tr>\n",
       "    <tr>\n",
       "      <th>35</th>\n",
       "      <td>zamalek lost</td>\n",
       "    </tr>\n",
       "    <tr>\n",
       "      <th>36</th>\n",
       "      <td>the tone of the ignorant is evidence that they...</td>\n",
       "    </tr>\n",
       "    <tr>\n",
       "      <th>37</th>\n",
       "      <td>abdel monsef says shadi is talking to the refe...</td>\n",
       "    </tr>\n",
       "    <tr>\n",
       "      <th>38</th>\n",
       "      <td>i wrote my goals for the year, and the last go...</td>\n",
       "    </tr>\n",
       "    <tr>\n",
       "      <th>39</th>\n",
       "      <td>the referee haha, al-ahly's mercy from goal no...</td>\n",
       "    </tr>\n",
       "    <tr>\n",
       "      <th>40</th>\n",
       "      <td>mourinho was too frank... but if we come to be...</td>\n",
       "    </tr>\n",
       "    <tr>\n",
       "      <th>41</th>\n",
       "      <td>unfortunately, what is happening in marsool pa...</td>\n",
       "    </tr>\n",
       "    <tr>\n",
       "      <th>42</th>\n",
       "      <td>#save _ al-ahly _ like _ al-ittihad\\n:\\nas lon...</td>\n",
       "    </tr>\n",
       "    <tr>\n",
       "      <th>43</th>\n",
       "      <td>#al-hilal _ al-shabab, we play the symphony of...</td>\n",
       "    </tr>\n",
       "    <tr>\n",
       "      <th>44</th>\n",
       "      <td>al-ahly fans are cheering with their backs</td>\n",
       "    </tr>\n",
       "    <tr>\n",
       "      <th>45</th>\n",
       "      <td>al-ahly today is different the neighbor is bac...</td>\n",
       "    </tr>\n",
       "    <tr>\n",
       "      <th>46</th>\n",
       "      <td>sayed came back and returned with the bombing,...</td>\n",
       "    </tr>\n",
       "    <tr>\n",
       "      <th>47</th>\n",
       "      <td>get up and feed him, where is the pre-match hy...</td>\n",
       "    </tr>\n",
       "    <tr>\n",
       "      <th>48</th>\n",
       "      <td>in some al-ahly, the teachers of al-ahly are i...</td>\n",
       "    </tr>\n",
       "    <tr>\n",
       "      <th>49</th>\n",
       "      <td>i suggest merging the youth with the riyadh cl...</td>\n",
       "    </tr>\n",
       "  </tbody>\n",
       "</table>\n",
       "</div>"
      ],
      "text/plain": [
       "                                                tweet\n",
       "0   the tongue of his condition, now i saw things ...\n",
       "1   by god the great, after i saw the derby of wyd...\n",
       "2   believe in god, this zamalek fans are as good ...\n",
       "3   the coach appeared in the media and told the t...\n",
       "4   asno smito\\nwhoever knows her tells me a massa...\n",
       "5   #crescent_flamingo\\nthe dirty referee is a sie...\n",
       "6   #morocco _ portugal argentine referee and unde...\n",
       "7   honestly, when al-ahly and al-hilal match tick...\n",
       "8   ashraf sobhi, minister of kindness:\\nwe follow...\n",
       "9   i am of the opinion to stop the league and pla...\n",
       "10                 #al-hilal _ zamalek, i am al-hilal\n",
       "11  #development\\n113.6 dangerous, remove 114\\n116...\n",
       "12  #union _ league _ unit\\na nasrawi entered a re...\n",
       "13  had al-kawari, think of me other than football...\n",
       "14  harran kalyan in the french league, we are dep...\n",
       "15  someone kills these ahlawyah, always forgettin...\n",
       "16  gross is back, renewing the pains, haha. incre...\n",
       "17  #al-ahly _ al-fayhaa\\nhaha the second faihaa h...\n",
       "18  #from _ cutting _ the _ mouse _ at _ al-fayha ...\n",
       "19  i feel sorry for you, which is in my mind. i d...\n",
       "20  a player provokes the audience, and then the c...\n",
       "21  watch ronaldo's reaction after salah salah's goal\n",
       "22  haha, it appears from the beginning that the t...\n",
       "23  congratulations, al-douri to al-ahly. nawaf bi...\n",
       "24  #turkish _ outside _ al-ahly\\nsearch on google...\n",
       "25                    he said, what did he say, asia?\n",
       "26  congratulations to zamalek for 2.5 million dol...\n",
       "27                                             hijazi\n",
       "28  al-ahly wins zamalek, where was the color of t...\n",
       "29  the biggest wrong decision made by qatar is to...\n",
       "30  may god protect them, they do not say that the...\n",
       "31     help me with men, haha # al-ahly_daldool_fathi\n",
       "32                    haha, god damn you from defence\n",
       "33  whenever #al-ittihad scores a goal, it must be...\n",
       "34  it is possible that the al-ahly administration...\n",
       "35                                       zamalek lost\n",
       "36  the tone of the ignorant is evidence that they...\n",
       "37  abdel monsef says shadi is talking to the refe...\n",
       "38  i wrote my goals for the year, and the last go...\n",
       "39  the referee haha, al-ahly's mercy from goal no...\n",
       "40  mourinho was too frank... but if we come to be...\n",
       "41  unfortunately, what is happening in marsool pa...\n",
       "42  #save _ al-ahly _ like _ al-ittihad\\n:\\nas lon...\n",
       "43  #al-hilal _ al-shabab, we play the symphony of...\n",
       "44         al-ahly fans are cheering with their backs\n",
       "45  al-ahly today is different the neighbor is bac...\n",
       "46  sayed came back and returned with the bombing,...\n",
       "47  get up and feed him, where is the pre-match hy...\n",
       "48  in some al-ahly, the teachers of al-ahly are i...\n",
       "49  i suggest merging the youth with the riyadh cl..."
      ]
     },
     "execution_count": 5,
     "metadata": {},
     "output_type": "execute_result"
    }
   ],
   "source": [
    "fake.iloc[:50]"
   ]
  },
  {
   "cell_type": "code",
   "execution_count": null,
   "id": "fdf18e5f",
   "metadata": {},
   "outputs": [],
   "source": []
  },
  {
   "cell_type": "code",
   "execution_count": 6,
   "id": "f92d882e",
   "metadata": {},
   "outputs": [],
   "source": [
    "import re "
   ]
  },
  {
   "cell_type": "code",
   "execution_count": 23,
   "id": "7a61f314",
   "metadata": {},
   "outputs": [],
   "source": [
    "def clean_line(line):\n",
    "    line =re.sub(r'hhh','',line)\n",
    "    line =re.sub(r'hhhh','',line)\n",
    "    line =re.sub(r'HHH','',line)\n",
    "    line =re.sub(r'HHHH','',line)\n",
    "    line =re.sub(r'@\\w+','',line)\n",
    "    line =re.sub(r'#\\w+','',line)\n",
    "    return line"
   ]
  },
  {
   "cell_type": "code",
   "execution_count": 24,
   "id": "5190bce5",
   "metadata": {},
   "outputs": [
    {
     "name": "stdout",
     "output_type": "stream",
     "text": [
      "i love elahly  flsjk \n"
     ]
    }
   ],
   "source": [
    "i=\"i love elahly hhh flsjk \"\n",
    "print(clean_line(i))"
   ]
  },
  {
   "cell_type": "code",
   "execution_count": 25,
   "id": "d510ca22",
   "metadata": {},
   "outputs": [],
   "source": [
    "fake['tweet']=fake['tweet'].apply(clean_line)"
   ]
  },
  {
   "cell_type": "code",
   "execution_count": null,
   "id": "2d90c5fb",
   "metadata": {},
   "outputs": [],
   "source": []
  },
  {
   "cell_type": "code",
   "execution_count": null,
   "id": "8b84e704",
   "metadata": {},
   "outputs": [],
   "source": []
  },
  {
   "cell_type": "code",
   "execution_count": null,
   "id": "fb770b06",
   "metadata": {},
   "outputs": [],
   "source": []
  },
  {
   "cell_type": "code",
   "execution_count": 26,
   "id": "e0ec201b",
   "metadata": {},
   "outputs": [],
   "source": [
    "fake.to_csv(\"fake.csv\",index=False)"
   ]
  },
  {
   "cell_type": "code",
   "execution_count": null,
   "id": "08a0af0c",
   "metadata": {},
   "outputs": [],
   "source": []
  }
 ],
 "metadata": {
  "kernelspec": {
   "display_name": "Python 3 (ipykernel)",
   "language": "python",
   "name": "python3"
  },
  "language_info": {
   "codemirror_mode": {
    "name": "ipython",
    "version": 3
   },
   "file_extension": ".py",
   "mimetype": "text/x-python",
   "name": "python",
   "nbconvert_exporter": "python",
   "pygments_lexer": "ipython3",
   "version": "3.9.7"
  },
  "papermill": {
   "default_parameters": {},
   "duration": 10822.079587,
   "end_time": "2023-02-16T19:07:35.371250",
   "environment_variables": {},
   "exception": null,
   "input_path": "__notebook__.ipynb",
   "output_path": "__notebook__.ipynb",
   "parameters": {},
   "start_time": "2023-02-16T16:07:13.291663",
   "version": "2.3.4"
  }
 },
 "nbformat": 4,
 "nbformat_minor": 5
}
